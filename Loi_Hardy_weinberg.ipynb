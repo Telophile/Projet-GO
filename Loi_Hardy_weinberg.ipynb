{
 "cells": [
  {
   "cell_type": "markdown",
   "metadata": {},
   "source": [
    "## formule :  p2+2pq+q2=1"
   ]
  },
  {
   "cell_type": "markdown",
   "metadata": {},
   "source": [
    "\\n\n",
    "    ![algo2.jpg](https://svt.ac-versailles.fr/IMG/jpg/algo2.jpg)\\n"
   ]
  },
  {
   "cell_type": "code",
   "execution_count": 49,
   "metadata": {},
   "outputs": [],
   "source": [
    "from metakernel import register_ipython_magics\n",
    "register_ipython_magics()"
   ]
  },
  {
   "cell_type": "code",
   "execution_count": 24,
   "metadata": {},
   "outputs": [],
   "source": [
    "from random import randint\n",
    "\n",
    "# Paramètres\n",
    "p = 0.25\n",
    "q = 0.75\n",
    "taille_population = 100\n",
    "nb_generations = 1\n",
    "\n",
    "nombre_alleles_p = 0\n",
    "nombre_alleles_q = 0\n",
    "d = {}  \n",
    "\n",
    "\n",
    "cles_zygotes = 0\n",
    "\n",
    "\n",
    "j = 0\n",
    "while j < nb_generations:\n",
    "    i = 0\n",
    "    while i < taille_population:\n",
    "        \n",
    "        n = randint(0, 100) / 100\n",
    "        m = randint(0, 100) / 100\n",
    "\n",
    "        Gamete_1 = 'A' if n > p else 'a'\n",
    "        Gamete_2 = 'A' if m > p else 'a'\n",
    "\n",
    "       \n",
    "        zygote = Gamete_1 + Gamete_2\n",
    "\n",
    "        \n",
    "        cles_zygotes += 1\n",
    "        d[cles_zygotes] = zygote\n",
    "\n",
    "        # Comptage des allèles\n",
    "        if zygote == 'AA':\n",
    "            nombre_alleles_p += 2\n",
    "        elif zygote in ['Aa', 'aA']:\n",
    "            nombre_alleles_p += 1\n",
    "            nombre_alleles_q += 1\n",
    "        elif zygote == 'aa':\n",
    "            nombre_alleles_q += 2\n",
    "\n",
    "        i += 1\n",
    "    j += 1"
   ]
  },
  {
   "cell_type": "code",
   "execution_count": 25,
   "metadata": {},
   "outputs": [
    {
     "data": {
      "text/plain": [
       "(143, 57)"
      ]
     },
     "execution_count": 25,
     "metadata": {},
     "output_type": "execute_result"
    }
   ],
   "source": [
    "nombre_alleles_p , nombre_alleles_q"
   ]
  },
  {
   "cell_type": "code",
   "execution_count": 26,
   "metadata": {},
   "outputs": [
    {
     "data": {
      "text/plain": [
       "{1: 'aa',\n",
       " 2: 'Aa',\n",
       " 3: 'Aa',\n",
       " 4: 'AA',\n",
       " 5: 'Aa',\n",
       " 6: 'AA',\n",
       " 7: 'Aa',\n",
       " 8: 'AA',\n",
       " 9: 'Aa',\n",
       " 10: 'aA',\n",
       " 11: 'aA',\n",
       " 12: 'aA',\n",
       " 13: 'aA',\n",
       " 14: 'aA',\n",
       " 15: 'AA',\n",
       " 16: 'AA',\n",
       " 17: 'aA',\n",
       " 18: 'AA',\n",
       " 19: 'AA',\n",
       " 20: 'AA',\n",
       " 21: 'Aa',\n",
       " 22: 'AA',\n",
       " 23: 'AA',\n",
       " 24: 'aA',\n",
       " 25: 'aA',\n",
       " 26: 'Aa',\n",
       " 27: 'AA',\n",
       " 28: 'AA',\n",
       " 29: 'Aa',\n",
       " 30: 'AA',\n",
       " 31: 'AA',\n",
       " 32: 'AA',\n",
       " 33: 'AA',\n",
       " 34: 'AA',\n",
       " 35: 'AA',\n",
       " 36: 'aA',\n",
       " 37: 'aA',\n",
       " 38: 'AA',\n",
       " 39: 'AA',\n",
       " 40: 'AA',\n",
       " 41: 'AA',\n",
       " 42: 'AA',\n",
       " 43: 'AA',\n",
       " 44: 'AA',\n",
       " 45: 'Aa',\n",
       " 46: 'AA',\n",
       " 47: 'AA',\n",
       " 48: 'Aa',\n",
       " 49: 'aa',\n",
       " 50: 'Aa',\n",
       " 51: 'Aa',\n",
       " 52: 'aa',\n",
       " 53: 'aA',\n",
       " 54: 'aA',\n",
       " 55: 'AA',\n",
       " 56: 'AA',\n",
       " 57: 'aa',\n",
       " 58: 'AA',\n",
       " 59: 'AA',\n",
       " 60: 'AA',\n",
       " 61: 'AA',\n",
       " 62: 'AA',\n",
       " 63: 'aA',\n",
       " 64: 'Aa',\n",
       " 65: 'AA',\n",
       " 66: 'AA',\n",
       " 67: 'aa',\n",
       " 68: 'aA',\n",
       " 69: 'AA',\n",
       " 70: 'aa',\n",
       " 71: 'AA',\n",
       " 72: 'AA',\n",
       " 73: 'aA',\n",
       " 74: 'aA',\n",
       " 75: 'aA',\n",
       " 76: 'AA',\n",
       " 77: 'Aa',\n",
       " 78: 'aa',\n",
       " 79: 'AA',\n",
       " 80: 'AA',\n",
       " 81: 'AA',\n",
       " 82: 'AA',\n",
       " 83: 'AA',\n",
       " 84: 'AA',\n",
       " 85: 'AA',\n",
       " 86: 'AA',\n",
       " 87: 'AA',\n",
       " 88: 'Aa',\n",
       " 89: 'Aa',\n",
       " 90: 'aA',\n",
       " 91: 'aA',\n",
       " 92: 'aa',\n",
       " 93: 'AA',\n",
       " 94: 'Aa',\n",
       " 95: 'AA',\n",
       " 96: 'AA',\n",
       " 97: 'aA',\n",
       " 98: 'aa',\n",
       " 99: 'AA',\n",
       " 100: 'aa'}"
      ]
     },
     "execution_count": 26,
     "metadata": {},
     "output_type": "execute_result"
    }
   ],
   "source": [
    "d"
   ]
  },
  {
   "cell_type": "code",
   "execution_count": 27,
   "metadata": {},
   "outputs": [],
   "source": [
    "nb_total = nombre_alleles_p + nombre_alleles_q\n",
    "\n",
    "frequence_p = nombre_alleles_p / nb_total *100\n",
    "frequence_q = nombre_alleles_q / nb_total *100"
   ]
  },
  {
   "cell_type": "code",
   "execution_count": 28,
   "metadata": {},
   "outputs": [
    {
     "data": {
      "text/plain": [
       "(71.5, 28.499999999999996)"
      ]
     },
     "execution_count": 28,
     "metadata": {},
     "output_type": "execute_result"
    }
   ],
   "source": [
    "frequence_p , frequence_q"
   ]
  },
  {
   "cell_type": "code",
   "execution_count": 29,
   "metadata": {},
   "outputs": [],
   "source": [
    "import matplotlib.pyplot as plt"
   ]
  },
  {
   "cell_type": "code",
   "execution_count": 30,
   "metadata": {},
   "outputs": [
    {
     "data": {
      "text/plain": [
       "<function matplotlib.pyplot.show(close=None, block=None)>"
      ]
     },
     "execution_count": 30,
     "metadata": {},
     "output_type": "execute_result"
    },
    {
     "data": {
      "image/png": "[encoded data removed]",
      "text/plain": [
       "<Figure size 640x480 with 1 Axes>"
      ]
     },
     "metadata": {},
     "output_type": "display_data"
    }
   ],
   "source": [
    "plt.plot()\n",
    "plt.show"
   ]
  },
  {
   "cell_type": "code",
   "execution_count": null,
   "metadata": {},
   "outputs": [],
   "source": []
  }
 ],
 "metadata": {
  "kernelspec": {
   "display_name": "Python 3",
   "language": "python",
   "name": "python3"
  },
  "language_info": {
   "codemirror_mode": {
    "name": "ipython",
    "version": 3
   },
   "file_extension": ".py",
   "mimetype": "text/x-python",
   "name": "python",
   "nbconvert_exporter": "python",
   "pygments_lexer": "ipython3",
   "version": "3.12.1"
  }
 },
 "nbformat": 4,
 "nbformat_minor": 2
}
