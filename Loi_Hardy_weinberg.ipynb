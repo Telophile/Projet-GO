{
 "cells": [
  {
   "cell_type": "markdown",
   "metadata": {},
   "source": [
    "## formule :  p2+2pq+q2=1"
   ]
  },
  {
   "cell_type": "markdown",
   "metadata": {},
   "source": [
    "\\n\n",
    "    ![algo2.jpg](https://svt.ac-versailles.fr/IMG/jpg/algo2.jpg)\\n"
   ]
  },
  {
   "cell_type": "code",
   "execution_count": 55,
   "metadata": {},
   "outputs": [],
   "source": [
    "from random import randint\n",
    "p= 0.25\n",
    "q= 0.75\n",
    "taille_population = 10\n",
    "nb_generations = 1\n",
    "\n",
    "d = {}\n",
    "\n",
    "j= 0\n",
    "\n",
    "while j < nb_generations :\n",
    "    cles_zygotes = 0\n",
    "    zygotes = ''\n",
    "    i=0\n",
    "    while i < taille_population :\n",
    "        n = randint(0,100) /100\n",
    "        m = randint(0,100) /100\n",
    "\n",
    "        if n > p :\n",
    "            Gamete_1 = \"A\"\n",
    "\n",
    "        elif n<p :\n",
    "            Gamete_1 = 'a'\n",
    "\n",
    "        if m>p :\n",
    "            Gamete_2 = 'A'\n",
    "\n",
    "        elif n<p :\n",
    "            Gamete_2 = 'a'\n",
    "\n",
    "        zygotes = Gamete_1 + Gamete_2\n",
    "        cles_zygotes += 1\n",
    "        \n",
    "        d[cles_zygotes] = zygotes\n",
    "\n",
    "        i+=1\n",
    "\n",
    "    \n",
    "        \n",
    "    \n",
    "    j+=1\n",
    "\n",
    "\n",
    "\n",
    "    \n"
   ]
  },
  {
   "cell_type": "code",
   "execution_count": 57,
   "metadata": {},
   "outputs": [
    {
     "data": {
      "text/plain": [
       "{1: 'aA',\n",
       " 2: 'aA',\n",
       " 3: 'aA',\n",
       " 4: 'AA',\n",
       " 5: 'AA',\n",
       " 6: 'AA',\n",
       " 7: 'aA',\n",
       " 8: 'AA',\n",
       " 9: 'AA',\n",
       " 10: 'AA'}"
      ]
     },
     "execution_count": 57,
     "metadata": {},
     "output_type": "execute_result"
    }
   ],
   "source": [
    "d"
   ]
  },
  {
   "cell_type": "code",
   "execution_count": 43,
   "metadata": {},
   "outputs": [
    {
     "data": {
      "text/plain": [
       "70.0"
      ]
     },
     "execution_count": 43,
     "metadata": {},
     "output_type": "execute_result"
    }
   ],
   "source": [
    "14/20 *100"
   ]
  },
  {
   "cell_type": "code",
   "execution_count": null,
   "metadata": {},
   "outputs": [],
   "source": []
  }
 ],
 "metadata": {
  "kernelspec": {
   "display_name": "Python 3",
   "language": "python",
   "name": "python3"
  },
  "language_info": {
   "codemirror_mode": {
    "name": "ipython",
    "version": 3
   },
   "file_extension": ".py",
   "mimetype": "text/x-python",
   "name": "python",
   "nbconvert_exporter": "python",
   "pygments_lexer": "ipython3",
   "version": "3.12.1"
  }
 },
 "nbformat": 4,
 "nbformat_minor": 2
}
